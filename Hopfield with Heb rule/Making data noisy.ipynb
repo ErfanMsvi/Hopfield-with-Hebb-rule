{
 "cells": [
  {
   "cell_type": "markdown",
   "metadata": {},
   "source": [
    "# Making data noisy"
   ]
  },
  {
   "cell_type": "code",
   "execution_count": 1,
   "metadata": {},
   "outputs": [],
   "source": [
    "import numpy as np\n",
    "import random"
   ]
  },
  {
   "cell_type": "code",
   "execution_count": 2,
   "metadata": {},
   "outputs": [],
   "source": [
    "# Reading values from 'characters.txt' file\n",
    "with open('characters.txt') as f:\n",
    "    characters = []\n",
    "    for line in f:\n",
    "        characters.append([int(x) for x in line.split()])"
   ]
  },
  {
   "cell_type": "code",
   "execution_count": 3,
   "metadata": {},
   "outputs": [
    {
     "name": "stdout",
     "output_type": "stream",
     "text": [
      "10\n"
     ]
    }
   ],
   "source": [
    "percentage = int(input())"
   ]
  },
  {
   "cell_type": "code",
   "execution_count": 4,
   "metadata": {},
   "outputs": [],
   "source": [
    "for i in range(4):\n",
    "    used = []\n",
    "    for j in range(percentage):\n",
    "\n",
    "        while True:\n",
    "            index = random.randint(0, 99)\n",
    "            if index not in used:\n",
    "                break\n",
    "        used.append(index)\n",
    "\n",
    "        if characters[i][index] == 0:\n",
    "            characters[i][index] = 1\n",
    "\n",
    "        else:\n",
    "            characters[i][index] = 0"
   ]
  },
  {
   "cell_type": "code",
   "execution_count": 5,
   "metadata": {},
   "outputs": [],
   "source": [
    "# Change binary values to bipolar values\n",
    "\n",
    "bp_characters = []\n",
    "\n",
    "for i in range(len(characters)):\n",
    "    bp_characters.append([x if x == 1 else -1 for x in characters[i]])\n",
    "\n",
    "# print(bp_characters)"
   ]
  },
  {
   "cell_type": "code",
   "execution_count": 6,
   "metadata": {},
   "outputs": [
    {
     "data": {
      "text/plain": [
       "4"
      ]
     },
     "execution_count": 6,
     "metadata": {},
     "output_type": "execute_result"
    }
   ],
   "source": [
    "len(characters)"
   ]
  }
 ],
 "metadata": {
  "kernelspec": {
   "display_name": "Python 3",
   "language": "python",
   "name": "python3"
  },
  "language_info": {
   "codemirror_mode": {
    "name": "ipython",
    "version": 3
   },
   "file_extension": ".py",
   "mimetype": "text/x-python",
   "name": "python",
   "nbconvert_exporter": "python",
   "pygments_lexer": "ipython3",
   "version": "3.8.3"
  }
 },
 "nbformat": 4,
 "nbformat_minor": 4
}
